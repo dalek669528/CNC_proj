{
 "cells": [
  {
   "cell_type": "code",
   "execution_count": null,
   "metadata": {},
   "outputs": [],
   "source": [
    "from IPython.core.debugger import Tracer\n",
    "\n",
    "import keras\n",
    "from keras.layers import Input, Dense, Reshape, Flatten, Dropout, Concatenate\n",
    "from keras.layers import BatchNormalization\n",
    "from keras.layers.advanced_activations import LeakyReLU\n",
    "from keras.models import Sequential, Model, load_model\n",
    "from keras.optimizers import Adam\n",
    "from keras.callbacks import EarlyStopping\n",
    "\n",
    "from scipy import io\n",
    "import scipy as sp\n",
    "import numpy as np\n",
    "import pandas as pd\n",
    "import matplotlib as mpl\n",
    "import matplotlib.pyplot as plt\n",
    "from mpl_toolkits.axes_grid1 import host_subplot\n",
    "import mpl_toolkits.axisartist as AA\n",
    "from mpl_toolkits.mplot3d import Axes3D\n",
    "import random\n",
    "import csv\n",
    "import os\n",
    "\n",
    "np.set_printoptions(precision=4, suppress=True)"
   ]
  },
  {
   "cell_type": "code",
   "execution_count": null,
   "metadata": {},
   "outputs": [],
   "source": [
    "directory_name = './MATLAB/data/0304/'\n",
    "data_amount = 1000\n",
    "\n",
    "files_name = os.listdir(directory_name)\n",
    "print(len(files_name))\n",
    "X_DesignedFs = []\n",
    "X_poles = []\n",
    "X_Qnums = []\n",
    "X_LQ = []\n",
    "X_rks = []\n",
    "X_yks = []\n",
    "X_uks = []\n",
    "X_eks = []\n",
    "Z_DesignedFs = []\n",
    "Z_poles = []\n",
    "Z_Qnums = []\n",
    "Z_LQ = []\n",
    "Z_rks = []\n",
    "Z_yks = []\n",
    "Z_uks = []\n",
    "Z_eks = []\n",
    "for file in files_name:\n",
    "# for file in files_name[:data_amount] + files_name[(len(files_name)//2):(len(files_name)//2+data_amount)]:\n",
    "    load_data = io.loadmat(directory_name + file)\n",
    "    plant = file[0]\n",
    "    DesignedF = load_data[plant+'_DesignedF']\n",
    "    pole = load_data[plant+'_pole'].reshape(-1)[0]\n",
    "    Qnum = load_data[plant+'_Qnum'].reshape(-1)\n",
    "    LQ = Qnum.shape[0]\n",
    "    rk = (load_data[plant+'_rk'].reshape(-1))[7500:22500]\n",
    "    yk = (load_data[plant+'_yk'].reshape(-1))[7500:22500]\n",
    "    uk = (load_data[plant+'_uk'].reshape(-1))[7500:22500]\n",
    "    ek = (load_data[plant+'_ek'].reshape(-1))[7500:22500]*1000\n",
    "#     print(file, ek.max())\n",
    "    if ek.max() < 1:\n",
    "        if plant == 'X':\n",
    "            X_DesignedFs.append(DesignedF)\n",
    "            X_poles.append(pole)\n",
    "            X_Qnums.append(Qnum)\n",
    "            X_LQ.append(LQ)\n",
    "            X_rks.append(rk)\n",
    "            X_yks.append(yk)\n",
    "            X_uks.append(uk)\n",
    "            X_eks.append(ek)\n",
    "        elif plant == 'Z':\n",
    "            break\n",
    "            Z_DesignedFs.append(DesignedF)\n",
    "            Z_poles.append(pole)\n",
    "            Z_Qnums.append(Qnum)\n",
    "            Z_LQ.append(LQ)\n",
    "            Z_rks.append(rk)\n",
    "            Z_yks.append(yk)\n",
    "            Z_uks.append(uk)\n",
    "            Z_eks.append(ek)\n",
    "X_poles = np.array(X_poles)\n",
    "X_LQ = np.array(X_LQ)\n",
    "X_rks = np.array(X_rks)\n",
    "X_yks = np.array(X_yks)\n",
    "X_uks = np.array(X_uks)\n",
    "X_eks = np.array(X_eks)\n",
    "# Z_poles = np.array(Z_poles)\n",
    "# Z_LQ = np.array(Z_LQ)\n",
    "# Z_rks = np.array(Z_rks)\n",
    "# Z_yks = np.array(Z_yks)\n",
    "# Z_uks = np.array(Z_uks)\n",
    "# Z_eks = np.array(Z_eks)\n",
    "print('finish')"
   ]
  },
  {
   "cell_type": "code",
   "execution_count": null,
   "metadata": {},
   "outputs": [],
   "source": [
    "X = (X_rks - X_eks*1)\n",
    "Z = (Z_rks - Z_eks*1)\n",
    "plt.figure(figsize=(10, 10))\n",
    "plt.plot(X_rks[0], Z_rks[0], alpha = 1)\n",
    "for i in range(1000):\n",
    "    plt.plot(X[i], Z[i], alpha = 0.3)\n",
    "plt.show"
   ]
  },
  {
   "cell_type": "code",
   "execution_count": null,
   "metadata": {},
   "outputs": [],
   "source": [
    "X_train = np.append(X_poles.reshape(-1, 1), X_LQ.reshape(-1, 1), axis = 1)\n",
    "X_train = np.append(X_train, np.array(X_DesignedFs)[:,:,1], axis = 1)\n",
    "Y_train = np.array(X_Qnums)\n",
    "Z_train = X_eks.max(axis = 1)"
   ]
  },
  {
   "cell_type": "code",
   "execution_count": null,
   "metadata": {},
   "outputs": [],
   "source": [
    "Z_train.shape"
   ]
  },
  {
   "cell_type": "code",
   "execution_count": null,
   "metadata": {},
   "outputs": [],
   "source": [
    "# Build & Train the model\n",
    "callback = EarlyStopping(monitor = 'loss', patience = 50, verbose = 1, mode = 'auto')\n",
    "\n",
    "keras.backend.clear_session()\n",
    "model = Sequential()\n",
    "model.add(Dense(units=48, input_dim=Y_train.shape[1], kernel_initializer='normal', activation='sigmoid'))\n",
    "model.add(Dense(units=64, kernel_initializer='normal', activation='sigmoid'))\n",
    "model.add(Dense(units=64, kernel_initializer='normal', activation='sigmoid'))\n",
    "model.add(Dense(units=16, kernel_initializer='normal', activation='sigmoid'))\n",
    "model.add(Dense(units=1, kernel_initializer='normal', activation='sigmoid'))\n",
    "\n",
    "# 編譯: 選擇損失函數、優化方法及成效衡量方式\n",
    "model.compile(loss='mae', optimizer=Adam(lr=0.000005)) \n",
    "model.summary()"
   ]
  },
  {
   "cell_type": "code",
   "execution_count": null,
   "metadata": {
    "scrolled": true
   },
   "outputs": [],
   "source": [
    "# keras.backend.clear_session()\n",
    "train_history = model.fit(x=Y_train, y=Z_train, validation_split=0.1, epochs=10000, batch_size=1000, verbose=1, callbacks = [callback])  "
   ]
  },
  {
   "cell_type": "code",
   "execution_count": null,
   "metadata": {},
   "outputs": [],
   "source": [
    "model.save('my_model_20200303.h5')"
   ]
  },
  {
   "cell_type": "code",
   "execution_count": null,
   "metadata": {},
   "outputs": [],
   "source": []
  },
  {
   "cell_type": "code",
   "execution_count": null,
   "metadata": {},
   "outputs": [],
   "source": [
    "Y_test.shape"
   ]
  },
  {
   "cell_type": "code",
   "execution_count": null,
   "metadata": {},
   "outputs": [],
   "source": [
    "Y_test = model.predict(X_train)\n",
    "fig = plt.figure(figsize=(15, 8))\n",
    "ax1 = host_subplot(111, axes_class=AA.Axes)\n",
    "# ax2 = ax1.twinx()\n",
    "# ax3 = ax1.twinx()\n",
    "\n",
    "# offset = 0\n",
    "# new_fixed_axis = ax2.get_grid_helper().new_fixed_axis\n",
    "# ax2.axis[\"right\"] = new_fixed_axis(loc=\"right\",axes=ax2,offset=(offset, 0))\n",
    "# ax2.axis[\"right\"].toggle(all=True)\n",
    "# offset = 60\n",
    "# new_fixed_axis = ax3.get_grid_helper().new_fixed_axis\n",
    "# ax3.axis[\"right\"] = new_fixed_axis(loc=\"right\",axes=ax3,offset=(offset, 0))\n",
    "# ax3.axis[\"right\"].toggle(all=True)\n",
    "\n",
    "ax1.plot(X_eks.max(axis=1)[:], label = \"err\")\n",
    "ax1.set_ylabel('err (um)')\n",
    "ax1.plot(Y_test[:], label = \"pred\")\n",
    "# ax1.set_ylabel('err (um)')\n",
    "# ax2.plot(X_poles, alpha = 0.5, label = \"pole\")\n",
    "# ax2.set_ylabel('pole')\n",
    "# ax3.plot(X_LQ, alpha = 0.5, label = \"LQ\")\n",
    "# ax3.set_ylabel('LQ')\n",
    "# ax1.set_ylim(0, X_eks.std())\n",
    "ax1.legend(loc = 0)\n",
    "\n",
    "ax1 = host_subplot(212, axes_class=AA.Axes)\n",
    "# ax2 = ax1.twinx()\n",
    "# ax3 = ax1.twinx()\n",
    "\n",
    "# offset = 0\n",
    "# new_fixed_axis = ax2.get_grid_helper().new_fixed_axis\n",
    "# ax2.axis[\"right\"] = new_fixed_axis(loc=\"right\",axes=ax2,offset=(offset, 0))\n",
    "# ax2.axis[\"right\"].toggle(all=True)\n",
    "# offset = 60\n",
    "# new_fixed_axis = ax3.get_grid_helper().new_fixed_axis\n",
    "# ax3.axis[\"right\"] = new_fixed_axis(loc=\"right\",axes=ax3,offset=(offset, 0))\n",
    "# ax3.axis[\"right\"].toggle(all=True)\n",
    "\n",
    "ax1.plot(X_eks.max(axis=1)[1000:1500], label = \"err\")\n",
    "ax1.set_ylabel('err (um)')\n",
    "ax1.plot(Y_test[1000:1500], label = \"pred\")\n",
    "# # ax2.plot(X_poles, alpha = 0.5, label = \"pole\")\n",
    "# # ax2.set_ylabel('pole')\n",
    "# # ax3.plot(X_LQ, alpha = 0.5, label = \"LQ\")\n",
    "# # ax3.set_ylabel('LQ')\n",
    "# # ax1.set_ylim(0, X_eks.std())\n",
    "# ax1.legend(loc = 0)\n",
    "\n",
    "plt.show()"
   ]
  },
  {
   "cell_type": "code",
   "execution_count": null,
   "metadata": {},
   "outputs": [],
   "source": [
    "Y_test"
   ]
  },
  {
   "cell_type": "code",
   "execution_count": null,
   "metadata": {},
   "outputs": [],
   "source": [
    "dict_ = []\n",
    "dict_1 = {'pole':2, 'LQ':15, 'ek':Y_test}\n",
    "dict_2 = {'pole':3, 'LQ':15, 'ek':Y_test}\n",
    "dict_.append(dict_1)\n",
    "dict_.append(dict_2)\n",
    "dict_.append({'pole':3, 'LQ':18, 'ek':Y_test})\n"
   ]
  },
  {
   "cell_type": "code",
   "execution_count": null,
   "metadata": {},
   "outputs": [],
   "source": [
    "dict_['pole'==3]"
   ]
  },
  {
   "cell_type": "code",
   "execution_count": null,
   "metadata": {},
   "outputs": [],
   "source": []
  }
 ],
 "metadata": {
  "kernelspec": {
   "display_name": "Python 3",
   "language": "python",
   "name": "python3"
  },
  "language_info": {
   "codemirror_mode": {
    "name": "ipython",
    "version": 3
   },
   "file_extension": ".py",
   "mimetype": "text/x-python",
   "name": "python",
   "nbconvert_exporter": "python",
   "pygments_lexer": "ipython3",
   "version": "3.6.9"
  }
 },
 "nbformat": 4,
 "nbformat_minor": 2
}
