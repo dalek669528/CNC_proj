{
 "cells": [
  {
   "cell_type": "code",
   "execution_count": null,
   "metadata": {
    "slideshow": {
     "slide_type": "-"
    }
   },
   "outputs": [],
   "source": [
    "from IPython.core.debugger import Tracer\n",
    "\n",
    "import keras\n",
    "import keras.losses\n",
    "from keras.layers import Input, Dense, Reshape, Flatten, Dropout, BatchNormalization, Concatenate\n",
    "from keras.layers.advanced_activations import LeakyReLU\n",
    "from keras.models import Sequential, load_model, Model\n",
    "from keras.optimizers import Adam\n",
    "from keras.callbacks import EarlyStopping\n",
    "import keras.backend as K\n",
    "\n",
    "from scipy import io\n",
    "import scipy as sp\n",
    "import numpy as np\n",
    "import pandas as pd\n",
    "import matplotlib as mpl\n",
    "import matplotlib.pyplot as plt\n",
    "from mpl_toolkits.axes_grid1 import host_subplot\n",
    "import mpl_toolkits.axisartist as AA\n",
    "import random\n",
    "import csv\n",
    "import os\n",
    "\n",
    "np.set_printoptions(precision=4, suppress=True)\n",
    "def my_mape(y_true, y_pred):\n",
    "    return K.sum((K.abs(y_pred - y_true))/(K.abs(y_true)+0.001))\n",
    "keras.losses.my_mape = my_mape"
   ]
  },
  {
   "cell_type": "code",
   "execution_count": 2,
   "metadata": {},
   "outputs": [],
   "source": [
    "from mlab.releases import latest_release\n",
    "from matlab import matlabroot\n",
    "print(matlabroot())"
   ]
  },
  {
   "cell_type": "raw",
   "metadata": {},
   "source": [
    "Define input data\n",
    "X_in = {\n",
    "    system_eq [2][5] = \n",
    "    pole [pole_amount] = \n",
    "    Q_number = \n",
    "    Freq_cons [18] = \n",
    "}\n",
    "X_out = {\n",
    "    Q [Q_number]\n",
    "}\n",
    "\n",
    "Y_in = {\n",
    "    system_eq [2][5] = \n",
    "    pole [pole_amount] = \n",
    "    Q [Q_number]\n",
    "    Freq_cons [18] = \n",
    "}\n",
    "Y_out = {\n",
    "    Max_Err"
   ]
  },
  {
   "cell_type": "code",
   "execution_count": null,
   "metadata": {},
   "outputs": [],
   "source": []
  },
  {
   "cell_type": "code",
   "execution_count": null,
   "metadata": {},
   "outputs": [],
   "source": []
  },
  {
   "cell_type": "code",
   "execution_count": null,
   "metadata": {},
   "outputs": [],
   "source": [
    "with open('./workspace/data/X_Q_0426.csv', 'w', newline='') as csvfile:\n",
    "    writer = csv.writer(csvfile)\n",
    "    writer.writerows(X_Qnums)"
   ]
  },
  {
   "cell_type": "code",
   "execution_count": null,
   "metadata": {},
   "outputs": [],
   "source": []
  },
  {
   "cell_type": "code",
   "execution_count": null,
   "metadata": {},
   "outputs": [],
   "source": [
    "# Load datas\n",
    "directory_name = './MATLAB/data/0304/'\n",
    "data_amount = 7500\n",
    "\n",
    "X_DesignedFs = []\n",
    "X_poles = []\n",
    "X_Qnums = []\n",
    "X_LQ = []\n",
    "X_rks = []\n",
    "X_yks = []\n",
    "X_uks = []\n",
    "X_eks = []\n",
    "Z_DesignedFs = []\n",
    "Z_poles = []\n",
    "Z_Qnums = []\n",
    "Z_LQ = []\n",
    "Z_rks = []\n",
    "Z_yks = []\n",
    "Z_uks = []\n",
    "Z_eks = []\n",
    "for plant_dir in ['X/']:\n",
    "    files_name = os.listdir(directory_name+plant_dir)\n",
    "    print(directory_name+plant_dir, len(files_name), 'files')\n",
    "#     for file in files_name:\n",
    "    for file in files_name[:data_amount]:\n",
    "        load_data = io.loadmat(directory_name + plant_dir + file)\n",
    "        plant = file[0]\n",
    "        DesignedF = load_data[plant+'_DesignedF']\n",
    "        pole = load_data[plant+'_pole'].reshape(-1)[0]\n",
    "        Qnum = load_data[plant+'_Qnum'].reshape(-1)\n",
    "        LQ = Qnum.shape[0]\n",
    "        rk = (load_data[plant+'_rk'].reshape(-1))[7500:22500]\n",
    "        yk = (load_data[plant+'_yk'].reshape(-1))[7500:22500]\n",
    "        uk = (load_data[plant+'_uk'].reshape(-1))[7500:22500]\n",
    "        ek = (load_data[plant+'_ek'].reshape(-1))[7500:22500]*1000\n",
    "    #     print(file, ek.max())\n",
    "        if ek.max() < 1:\n",
    "            if plant == 'X':\n",
    "                X_DesignedFs.append(DesignedF)\n",
    "                X_poles.append(pole)\n",
    "                X_Qnums.append(Qnum)\n",
    "                X_LQ.append(LQ)\n",
    "                X_rks.append(rk)\n",
    "                X_yks.append(yk)\n",
    "                X_uks.append(uk)\n",
    "                X_eks.append(ek)\n",
    "            elif plant == 'Z':\n",
    "                Z_DesignedFs.append(DesignedF)\n",
    "                Z_poles.append(pole)\n",
    "                Z_Qnums.append(Qnum)\n",
    "                Z_LQ.append(LQ)\n",
    "                Z_rks.append(rk)\n",
    "                Z_yks.append(yk)\n",
    "                Z_uks.append(uk)\n",
    "                Z_eks.append(ek)\n",
    "X_poles = np.array(X_poles)\n",
    "X_LQ = np.array(X_LQ)\n",
    "X_rks = np.array(X_rks)\n",
    "X_yks = np.array(X_yks)\n",
    "X_uks = np.array(X_uks)\n",
    "X_eks = np.array(X_eks)\n",
    "X_Qnums = np.array(X_Qnums)\n",
    "X_DesignedFs = np.log(np.array(X_DesignedFs)[:,:,1])\n",
    "# Z_poles = np.array(Z_poles)\n",
    "# Z_LQ = np.array(Z_LQ)\n",
    "# Z_rks = np.array(Z_rks)\n",
    "# Z_yks = np.array(Z_yks)\n",
    "# Z_uks = np.array(Z_uks)\n",
    "# Z_eks = np.array(Z_eks)\n",
    "# Z_Qnums = np.array(Z_Qnums)\n",
    "# Z_DesignedFs = np.log(np.array(Z_DesignedFs)[:,:,1])\n",
    "print('finish')"
   ]
  },
  {
   "cell_type": "code",
   "execution_count": null,
   "metadata": {},
   "outputs": [],
   "source": [
    "X_in = np.hstack((X_poles.reshape(-1, 1), X_LQ.reshape(-1, 1), X_DesignedFs))\n",
    "X_out = X_Qnums\n",
    "Y_in = np.append(X_in, X_out, axis = 1)\n",
    "Y_out = X_eks.max(axis = 1)\n",
    "indices = np.arange(X_in.shape[0])\n",
    "np.random.shuffle(indices)\n"
   ]
  },
  {
   "cell_type": "code",
   "execution_count": null,
   "metadata": {},
   "outputs": [],
   "source": []
  },
  {
   "cell_type": "code",
   "execution_count": null,
   "metadata": {},
   "outputs": [],
   "source": []
  },
  {
   "cell_type": "code",
   "execution_count": null,
   "metadata": {},
   "outputs": [],
   "source": []
  },
  {
   "cell_type": "code",
   "execution_count": null,
   "metadata": {},
   "outputs": [],
   "source": [
    "Y_in_2 = Y_in\n",
    "Y_out_2 = Y_out\n",
    "p_LQ = np.genfromtxt('./MATLAB/data/Generate/0405.csv', delimiter=',')[:,:2]\n",
    "Freq = np.log(np.genfromtxt('./MATLAB/data/Generate/0405.csv', delimiter=',')[:,2:20])\n",
    "Q = np.genfromtxt('./MATLAB/data/Generate/0405.csv', delimiter=',')[:,20:35]\n",
    "Y_resimulate = np.hstack((p_LQ, Freq, Q))\n",
    "Z_resimulate = np.genfromtxt('./MATLAB/data/Generate/0405_error.csv', delimiter=',')[:,1]\n",
    "Y_in_2 = np.append(Y_in_2, Y_resimulate, axis=0)\n",
    "Y_out_2 = np.append(Y_out_2, Z_resimulate)\n",
    "print(Y_in_2.shape, Y_out_2.shape)\n",
    "indices_2 = np.arange(Y_in_2.shape[0])\n",
    "np.random.shuffle(indices_2)"
   ]
  },
  {
   "cell_type": "code",
   "execution_count": null,
   "metadata": {},
   "outputs": [],
   "source": []
  },
  {
   "cell_type": "code",
   "execution_count": null,
   "metadata": {},
   "outputs": [],
   "source": []
  },
  {
   "cell_type": "code",
   "execution_count": null,
   "metadata": {},
   "outputs": [],
   "source": []
  },
  {
   "cell_type": "code",
   "execution_count": null,
   "metadata": {},
   "outputs": [],
   "source": []
  },
  {
   "cell_type": "code",
   "execution_count": null,
   "metadata": {},
   "outputs": [],
   "source": []
  },
  {
   "cell_type": "code",
   "execution_count": null,
   "metadata": {},
   "outputs": [],
   "source": [
    "keras.backend.clear_session()"
   ]
  },
  {
   "cell_type": "code",
   "execution_count": null,
   "metadata": {},
   "outputs": [],
   "source": [
    "def __generator():\n",
    "    \"\"\" Declare generator \"\"\"\n",
    "    G_in = Input(shape = (X_in.shape[1],))\n",
    "    L1 = Dense(units=64, kernel_initializer='normal', activation='sigmoid')(G_in)\n",
    "#     L1 = BatchNormalization(momentum=0.8)(L1)\n",
    "#     L1 = Dense(units = 128, activation='sigmoid')(L1)\n",
    "#     L1 = Dropout(0.1)(L1)\n",
    "#     L1 = BatchNormalization(momentum=0.8)(L1)\n",
    "    L1 = Dense(units = 128, activation='sigmoid')(L1)\n",
    "    L1 = Dropout(0.1)(L1)\n",
    "    L1 = Dense(units = 64, activation='tanh')(L1)\n",
    "    G_out = Dense(units = X_out.shape[1])(L1)\n",
    "    G_out = Concatenate(axis = -1)([G_in, G_out])\n",
    "    model = Model(inputs = G_in, outputs = G_out)\n",
    "#     model = Sequential()\n",
    "#     model.add(Dense(units=64, input_dim=20, kernel_initializer='normal', activation='sigmoid'))\n",
    "#     model.add(BatchNormalization(momentum=0.8))  # 使用 BatchNormalization 優化\n",
    "#     model.add(Dense(units = 128, activation='sigmoid'))\n",
    "#     model.add(Dropout(0.1))\n",
    "#     model.add(BatchNormalization(momentum=0.8))\n",
    "#     model.add(Dense(units = 256, activation='sigmoid'))\n",
    "#     model.add(Dropout(0.1))\n",
    "#     model.add(Dense(units = 64, activation='tanh'))\n",
    "#     model.add(Dense(units = 15))\n",
    "    return model"
   ]
  },
  {
   "cell_type": "code",
   "execution_count": null,
   "metadata": {},
   "outputs": [],
   "source": [
    "def __discriminator():\n",
    "    \"\"\" Declare discriminator \"\"\"\n",
    "    model = Sequential()\n",
    "    model.add(Dense(units=64, input_dim=Y_in.shape[1], kernel_initializer='normal', activation='sigmoid'))\n",
    "    model.add(Dropout(0.1))\n",
    "    model.add(Dense(units=128, kernel_initializer='normal', activation='sigmoid'))\n",
    "    model.add(Dropout(0.1))\n",
    "    model.add(Dense(units=128, kernel_initializer='normal', activation='sigmoid'))\n",
    "    model.add(Dropout(0.1))\n",
    "    model.add(Dense(units=32, kernel_initializer='normal'))\n",
    "    model.add(Dense(units=1, kernel_initializer='normal'))\n",
    "    return model"
   ]
  },
  {
   "cell_type": "code",
   "execution_count": null,
   "metadata": {},
   "outputs": [],
   "source": [
    "def __stacked_generator_discriminator(self_G, self_D):\n",
    "    self_D.trainable = False\n",
    "    model = Sequential()\n",
    "    model.add(self_G)\n",
    "    model.add(self_D)\n",
    "    return model"
   ]
  },
  {
   "cell_type": "code",
   "execution_count": null,
   "metadata": {},
   "outputs": [],
   "source": [
    "self_G = load_model('./models/Simulator_DesignF2Qnum_0325.h5') \n",
    "self_G.name = \"G\"\n",
    "self_G.compile(loss=my_mape, optimizer=Adam(lr=0.0000001, beta_1=0.5, decay=8e-8))\n",
    "self_G.summary()\n",
    "self_D = load_model('./models/Simulator_Qnum2Errmax_0406.h5')\n",
    "self_D.name = \"D\"\n",
    "self_D.compile(loss='mape', optimizer=Adam(lr=0.000001, beta_1=0.5, decay=8e-8))\n",
    "self_D.summary()\n",
    "self_stacked_GD = load_model('./models/Stacked_GAN_0406.h5')\n",
    "self_stacked_GD.name = \"GD\"\n",
    "self_stacked_GD.compile(loss='mae', optimizer=Adam(lr=0.0000001, beta_1=0.5, decay=8e-8))\n",
    "self_stacked_GD.summary()"
   ]
  },
  {
   "cell_type": "code",
   "execution_count": null,
   "metadata": {},
   "outputs": [],
   "source": [
    "self_G.save('./models/Simulator_DesignF2Qnum_0425.h5')\n",
    "self_D.save('./models/Simulator_Qnum2Errmax_0425.h5')\n",
    "self_stacked_GD.save('./models/Stacked_GAN_0425.h5')"
   ]
  },
  {
   "cell_type": "code",
   "execution_count": null,
   "metadata": {},
   "outputs": [],
   "source": [
    "callback = EarlyStopping(monitor = 'loss', patience = 5000, verbose = 1, mode = 'auto')"
   ]
  },
  {
   "cell_type": "code",
   "execution_count": null,
   "metadata": {},
   "outputs": [],
   "source": [
    "self_D = __discriminator()\n",
    "self_D.compile(loss='mape', optimizer=Adam(lr=0.0001, beta_1=0.5, decay=8e-8))\n",
    "self_D.summary()"
   ]
  },
  {
   "cell_type": "code",
   "execution_count": null,
   "metadata": {},
   "outputs": [],
   "source": [
    "self_G = __generator()\n",
    "self_G.compile(loss=my_mape, optimizer=Adam(lr=0.0001, beta_1=0.5, decay=8e-8))\n",
    "self_G.summary()"
   ]
  },
  {
   "cell_type": "code",
   "execution_count": null,
   "metadata": {
    "scrolled": true
   },
   "outputs": [],
   "source": [
    "self_stacked_GD = __stacked_generator_discriminator(self_G, self_D)\n",
    "self_stacked_GD.compile(loss='mae', optimizer=Adam(lr=0.0002, beta_1=0.5, decay=8e-8))\n",
    "self_stacked_GD.summary()"
   ]
  },
  {
   "cell_type": "code",
   "execution_count": null,
   "metadata": {},
   "outputs": [],
   "source": []
  },
  {
   "cell_type": "code",
   "execution_count": null,
   "metadata": {},
   "outputs": [],
   "source": [
    "self_D.trainable = True"
   ]
  },
  {
   "cell_type": "code",
   "execution_count": null,
   "metadata": {
    "scrolled": true
   },
   "outputs": [],
   "source": [
    "self_D.compile(loss='mse', optimizer=Adam(lr=0.0001, beta_1=0.5, decay=8e-8))\n",
    "train_history_D = self_D.fit(x=Y_in_2[indices_2], y=Y_out_2[indices_2], validation_split=0.3, epochs=100000, batch_size=1024, verbose=1, callbacks = [callback])"
   ]
  },
  {
   "cell_type": "code",
   "execution_count": null,
   "metadata": {},
   "outputs": [],
   "source": [
    "Y_test = self_D.predict(Y_in_2)\n",
    "fig = plt.figure(figsize=(15, 16))\n",
    "ax1 = host_subplot(211, axes_class=AA.Axes)\n",
    "ax1.plot(Y_out_2, alpha = 0.9)\n",
    "ax1.plot(Y_test, alpha = 0.5)\n",
    "ax1 = host_subplot(212, axes_class=AA.Axes)\n",
    "ax1.plot(Y_out_2[:200], alpha = 0.9)\n",
    "ax1.plot(Y_test[:200], alpha = 0.5)\n",
    "plt.show()"
   ]
  },
  {
   "cell_type": "code",
   "execution_count": null,
   "metadata": {},
   "outputs": [],
   "source": [
    "self_G.compile(loss=my_mape, optimizer=Adam(lr=0.0000005, beta_1=0.5, decay=8e-8))\n",
    "train_history_G = self_G.fit(x=X_in[indices], y=X_out[indices], validation_split=0.7, epochs=1000000, batch_size=256, verbose=1,  callbacks = [callback])"
   ]
  },
  {
   "cell_type": "code",
   "execution_count": null,
   "metadata": {},
   "outputs": [],
   "source": []
  },
  {
   "cell_type": "code",
   "execution_count": null,
   "metadata": {},
   "outputs": [],
   "source": []
  },
  {
   "cell_type": "code",
   "execution_count": null,
   "metadata": {},
   "outputs": [],
   "source": []
  },
  {
   "cell_type": "code",
   "execution_count": null,
   "metadata": {},
   "outputs": [],
   "source": [
    "# z_mislabled = np.zeros((X_train.shape[0], 1))\n",
    "self_stacked_GD.compile(loss='mape', optimizer=Adam(lr=0.000001, beta_1=0.5, decay=8e-8))\n",
    "train_history_GD = self_stacked_GD.fit(x=X_in[indices], y=Y_out[indices], shuffle=True, validation_split=0.7, epochs=100000, batch_size=256, verbose=1, callbacks = [callback])\n"
   ]
  },
  {
   "cell_type": "code",
   "execution_count": null,
   "metadata": {},
   "outputs": [],
   "source": []
  },
  {
   "cell_type": "code",
   "execution_count": null,
   "metadata": {},
   "outputs": [],
   "source": []
  },
  {
   "cell_type": "code",
   "execution_count": null,
   "metadata": {},
   "outputs": [],
   "source": []
  },
  {
   "cell_type": "code",
   "execution_count": null,
   "metadata": {},
   "outputs": [],
   "source": []
  },
  {
   "cell_type": "code",
   "execution_count": null,
   "metadata": {},
   "outputs": [],
   "source": [
    "X_pred = self_G.predict(X_in)\n",
    "# Z_test = self_stacked_GD.predict(X_train)\n",
    "# Z_test_D = self_D.predict(Y)\n",
    "fig = plt.figure(figsize=(15, 8))\n",
    "ax1 = host_subplot(111, axes_class=AA.Axes)\n",
    "for i in range(15):\n",
    "    ax1.plot(X_out[:,i], alpha = 0.1)\n",
    "    ax1.set_title('Real Q num')\n",
    "plt.show()\n",
    "    \n",
    "fig = plt.figure(figsize=(15, 8))\n",
    "ax1 = host_subplot(111, axes_class=AA.Axes)\n",
    "for i in range(15):\n",
    "    ax1.plot(X_pred[:,i], alpha = 1)\n",
    "    ax1.set_title('Predict Q num')\n",
    "plt.show()"
   ]
  },
  {
   "cell_type": "code",
   "execution_count": 4,
   "metadata": {},
   "outputs": [
    {
     "ename": "NameError",
     "evalue": "name 'msg' is not defined",
     "output_type": "error",
     "traceback": [
      "\u001b[1;31m---------------------------------------------------------------------------\u001b[0m",
      "\u001b[1;31mNameError\u001b[0m                                 Traceback (most recent call last)",
      "\u001b[1;32mc:\\users\\dalek669528\\.conda\\envs\\pytorch\\lib\\site-packages\\mlab-1.1.4-py3.6.egg\\mlab\\mlabwrap.py\u001b[0m in \u001b[0;36m__getattr__\u001b[1;34m(self, attr)\u001b[0m\n\u001b[0;32m    626\u001b[0m         \u001b[1;32mtry\u001b[0m\u001b[1;33m:\u001b[0m\u001b[1;33m\u001b[0m\u001b[1;33m\u001b[0m\u001b[0m\n\u001b[1;32m--> 627\u001b[1;33m             \u001b[0mnout\u001b[0m \u001b[1;33m=\u001b[0m \u001b[0mself\u001b[0m\u001b[1;33m.\u001b[0m\u001b[0m_do\u001b[0m\u001b[1;33m(\u001b[0m\u001b[1;34m\"nargout('%s')\"\u001b[0m \u001b[1;33m%\u001b[0m \u001b[0mname\u001b[0m\u001b[1;33m)\u001b[0m\u001b[1;33m\u001b[0m\u001b[1;33m\u001b[0m\u001b[0m\n\u001b[0m\u001b[0;32m    628\u001b[0m         \u001b[1;32mexcept\u001b[0m \u001b[0mmlab\u001b[0m\u001b[1;33m.\u001b[0m\u001b[0mmlabraw\u001b[0m\u001b[1;33m.\u001b[0m\u001b[0merror\u001b[0m\u001b[1;33m(\u001b[0m\u001b[0mmsg\u001b[0m\u001b[1;33m)\u001b[0m\u001b[1;33m:\u001b[0m\u001b[1;33m\u001b[0m\u001b[1;33m\u001b[0m\u001b[0m\n",
      "\u001b[1;32mc:\\users\\dalek669528\\.conda\\envs\\pytorch\\lib\\site-packages\\mlab-1.1.4-py3.6.egg\\mlab\\mlabwrap.py\u001b[0m in \u001b[0;36m_do\u001b[1;34m(self, cmd, *args, **kwargs)\u001b[0m\n\u001b[0;32m    545\u001b[0m             \u001b[0mresSL\u001b[0m \u001b[1;33m=\u001b[0m \u001b[1;33m(\u001b[0m\u001b[1;33m(\u001b[0m\u001b[1;33m[\u001b[0m\u001b[1;34m\"RES%d__\"\u001b[0m \u001b[1;33m%\u001b[0m \u001b[0mi\u001b[0m \u001b[1;32mfor\u001b[0m \u001b[0mi\u001b[0m \u001b[1;32min\u001b[0m \u001b[0mrange\u001b[0m\u001b[1;33m(\u001b[0m\u001b[0mnout\u001b[0m\u001b[1;33m)\u001b[0m\u001b[1;33m]\u001b[0m\u001b[1;33m)\u001b[0m\u001b[1;33m)\u001b[0m\u001b[1;33m\u001b[0m\u001b[1;33m\u001b[0m\u001b[0m\n\u001b[1;32m--> 546\u001b[1;33m             \u001b[0mhandle_out\u001b[0m\u001b[1;33m(\u001b[0m\u001b[0mmlab\u001b[0m\u001b[1;33m.\u001b[0m\u001b[0mmlabraw\u001b[0m\u001b[1;33m.\u001b[0m\u001b[0meval\u001b[0m\u001b[1;33m(\u001b[0m\u001b[0mself\u001b[0m\u001b[1;33m.\u001b[0m\u001b[0m_session\u001b[0m\u001b[1;33m,\u001b[0m \u001b[1;34m'[%s]=%s;'\u001b[0m \u001b[1;33m%\u001b[0m \u001b[1;33m(\u001b[0m\u001b[1;34m\", \"\u001b[0m\u001b[1;33m.\u001b[0m\u001b[0mjoin\u001b[0m\u001b[1;33m(\u001b[0m\u001b[0mresSL\u001b[0m\u001b[1;33m)\u001b[0m\u001b[1;33m,\u001b[0m \u001b[0mcmd\u001b[0m\u001b[1;33m)\u001b[0m\u001b[1;33m)\u001b[0m\u001b[1;33m)\u001b[0m\u001b[1;33m\u001b[0m\u001b[1;33m\u001b[0m\u001b[0m\n\u001b[0m\u001b[0;32m    547\u001b[0m             \u001b[0mres\u001b[0m \u001b[1;33m=\u001b[0m \u001b[0mself\u001b[0m\u001b[1;33m.\u001b[0m\u001b[0m_get_values\u001b[0m\u001b[1;33m(\u001b[0m\u001b[0mresSL\u001b[0m\u001b[1;33m)\u001b[0m\u001b[1;33m\u001b[0m\u001b[1;33m\u001b[0m\u001b[0m\n",
      "\u001b[1;31mNameError\u001b[0m: name 'mlabraw' is not defined",
      "\nDuring handling of the above exception, another exception occurred:\n",
      "\u001b[1;31mNameError\u001b[0m                                 Traceback (most recent call last)",
      "\u001b[1;32m<ipython-input-4-ec61bc79d74b>\u001b[0m in \u001b[0;36m<module>\u001b[1;34m\u001b[0m\n\u001b[0;32m      1\u001b[0m \u001b[1;32mfrom\u001b[0m \u001b[0mmlab\u001b[0m\u001b[1;33m.\u001b[0m\u001b[0mreleases\u001b[0m \u001b[1;32mimport\u001b[0m \u001b[0mlatest_release\u001b[0m\u001b[1;33m\u001b[0m\u001b[1;33m\u001b[0m\u001b[0m\n\u001b[1;32m----> 2\u001b[1;33m \u001b[1;32mfrom\u001b[0m \u001b[0mmatlab\u001b[0m \u001b[1;32mimport\u001b[0m \u001b[0mmatlabroot\u001b[0m\u001b[1;33m\u001b[0m\u001b[1;33m\u001b[0m\u001b[0m\n\u001b[0m\u001b[0;32m      3\u001b[0m \u001b[0mprint\u001b[0m\u001b[1;33m(\u001b[0m\u001b[0mmatlabroot\u001b[0m\u001b[1;33m(\u001b[0m\u001b[1;33m)\u001b[0m\u001b[1;33m)\u001b[0m\u001b[1;33m\u001b[0m\u001b[1;33m\u001b[0m\u001b[0m\n",
      "\u001b[1;32mc:\\users\\dalek669528\\.conda\\envs\\pytorch\\lib\\site-packages\\mlab-1.1.4-py3.6.egg\\mlab\\mlabwrap.py\u001b[0m in \u001b[0;36m__getattr__\u001b[1;34m(self, attr)\u001b[0m\n\u001b[0;32m    626\u001b[0m         \u001b[1;32mtry\u001b[0m\u001b[1;33m:\u001b[0m\u001b[1;33m\u001b[0m\u001b[1;33m\u001b[0m\u001b[0m\n\u001b[0;32m    627\u001b[0m             \u001b[0mnout\u001b[0m \u001b[1;33m=\u001b[0m \u001b[0mself\u001b[0m\u001b[1;33m.\u001b[0m\u001b[0m_do\u001b[0m\u001b[1;33m(\u001b[0m\u001b[1;34m\"nargout('%s')\"\u001b[0m \u001b[1;33m%\u001b[0m \u001b[0mname\u001b[0m\u001b[1;33m)\u001b[0m\u001b[1;33m\u001b[0m\u001b[1;33m\u001b[0m\u001b[0m\n\u001b[1;32m--> 628\u001b[1;33m         \u001b[1;32mexcept\u001b[0m \u001b[0mmlab\u001b[0m\u001b[1;33m.\u001b[0m\u001b[0mmlabraw\u001b[0m\u001b[1;33m.\u001b[0m\u001b[0merror\u001b[0m\u001b[1;33m(\u001b[0m\u001b[0mmsg\u001b[0m\u001b[1;33m)\u001b[0m\u001b[1;33m:\u001b[0m\u001b[1;33m\u001b[0m\u001b[1;33m\u001b[0m\u001b[0m\n\u001b[0m\u001b[0;32m    629\u001b[0m             \u001b[0mtyp\u001b[0m \u001b[1;33m=\u001b[0m \u001b[0mnumpy\u001b[0m\u001b[1;33m.\u001b[0m\u001b[0mravel\u001b[0m\u001b[1;33m(\u001b[0m\u001b[0mself\u001b[0m\u001b[1;33m.\u001b[0m\u001b[0m_do\u001b[0m\u001b[1;33m(\u001b[0m\u001b[1;34m\"exist('%s')\"\u001b[0m \u001b[1;33m%\u001b[0m \u001b[0mname\u001b[0m\u001b[1;33m)\u001b[0m\u001b[1;33m)\u001b[0m\u001b[1;33m[\u001b[0m\u001b[1;36m0\u001b[0m\u001b[1;33m]\u001b[0m\u001b[1;33m\u001b[0m\u001b[1;33m\u001b[0m\u001b[0m\n\u001b[0;32m    630\u001b[0m             \u001b[1;32mif\u001b[0m   \u001b[0mtyp\u001b[0m \u001b[1;33m==\u001b[0m \u001b[1;36m0\u001b[0m\u001b[1;33m:\u001b[0m \u001b[1;31m# doesn't exist\u001b[0m\u001b[1;33m\u001b[0m\u001b[1;33m\u001b[0m\u001b[0m\n",
      "\u001b[1;31mNameError\u001b[0m: name 'msg' is not defined"
     ]
    }
   ],
   "source": [
    "from mlab.releases import latest_release\n",
    "from matlab import matlabroot\n",
    "print(matlabroot())"
   ]
  },
  {
   "cell_type": "code",
   "execution_count": null,
   "metadata": {},
   "outputs": [],
   "source": [
    "self_D.compile(loss='mae', optimizer=Adam(lr=0.00001, beta_1=0.5, decay=8e-8))"
   ]
  },
  {
   "cell_type": "code",
   "execution_count": null,
   "metadata": {
    "scrolled": true
   },
   "outputs": [],
   "source": [
    "train_history_D = self_D.fit(x=Y, y=Z, validation_split=0.1,aepochs=100000, batch_size=512, verbose=1, callbacks = [callback])\n",
    "# train_history_D = self_D.fit(x=Y, y=Z, validation_split=0.1, epochs=100000, batch_size=512, verbose=1)"
   ]
  },
  {
   "cell_type": "code",
   "execution_count": null,
   "metadata": {},
   "outputs": [],
   "source": [
    "\n",
    "X_Qnums.shape"
   ]
  },
  {
   "cell_type": "code",
   "execution_count": null,
   "metadata": {},
   "outputs": [],
   "source": [
    "self_D.trainable"
   ]
  },
  {
   "cell_type": "code",
   "execution_count": null,
   "metadata": {},
   "outputs": [],
   "source": [
    "arr = np.append(X_train, Y_test, axis = 1)\n",
    "arr = np.append(arr, Z_test, axis = 1)\n",
    "with open('./MATLAB/data/Generate/0406.csv', 'w', newline='') as csvfile:\n",
    "    writer = csv.writer(csvfile)\n",
    "    writer.writerows(arr)\n"
   ]
  },
  {
   "cell_type": "code",
   "execution_count": null,
   "metadata": {},
   "outputs": [],
   "source": [
    "directory_name = './MATLAB/data/0304/'"
   ]
  },
  {
   "cell_type": "code",
   "execution_count": null,
   "metadata": {
    "scrolled": false
   },
   "outputs": [],
   "source": [
    "# YY = self_GG.predict(X_train)\n",
    "Y_test = self_G.predict(X_in)\n",
    "Z_test = self_stacked_GD.predict(X_in)\n",
    "Z_test_D = self_D.predict(Y_in)\n",
    "fig = plt.figure(figsize=(15, 8))\n",
    "ax1 = host_subplot(211, axes_class=AA.Axes)\n",
    "for i in range(15):\n",
    "    ax1.plot(X_out[:,i], alpha = 0.2)\n",
    "    ax1.set_title('Original Q num')\n",
    "\n",
    "# plt.show()\n",
    "# fig = plt.figure(figsize=(20, 12))\n",
    "# ax1 = host_subplot(212, axes_class=AA.Axes)\n",
    "for i in range(15):\n",
    "    ax1.plot(Y_test[:,i], alpha = 0.8)\n",
    "    ax1.set_title('Predict Q num (supervise)')\n",
    "plt.show()\n",
    "\n",
    "# fig = plt.figure(figsize=(15, 8))\n",
    "# ax1 = host_subplot(211, axes_class=AA.Axes)\n",
    "# for i in range(15):\n",
    "#     ax1.plot(Y_test[:,i], alpha = 0.8)\n",
    "#     ax1.set_title('Predict Q num (supervise)')\n",
    "\n",
    "# plt.show()\n",
    "# fig = plt.figure(figsize=(20, 12))\n",
    "# ax1 = host_subplot(212, axes_class=AA.Axes)\n",
    "# for i in range(15):\n",
    "#     ax1.plot(YY[:,i], alpha = 0.8)\n",
    "#     ax1.set_title('Predict Q num (unsupervise)')\n",
    "# plt.show()\n",
    "\n",
    "fig = plt.figure(figsize=(15, 8))\n",
    "ax1 = host_subplot(111, axes_class=AA.Axes)\n",
    "ax1.plot(Y_out, alpha = 1, label = \"Original error\")\n",
    "ax1.plot(Z_test_D, alpha = 0.5, label = \"D error\")\n",
    "ax1.plot(Z_test, alpha = 0.5, label = \"Predict error\")\n",
    "ax1.set_title('max error')\n",
    "ax1.legend()\n",
    "# ax1.set_ylim(0, 1)\n",
    "plt.show()\n",
    "fig = plt.figure(figsize=(15, 8))\n",
    "ax1 = host_subplot(111, axes_class=AA.Axes)\n",
    "ax1.plot(Z_train[500:1000], alpha = 1)\n",
    "ax1.plot(Z_test_D[500:1000], alpha = 0.5)\n",
    "ax1.plot(Z_test[500:1000], alpha = 0.3)\n",
    "# ax1.set_ylim(0, 1)\n",
    "ax1.set_title('max error')\n",
    "plt.show()"
   ]
  },
  {
   "cell_type": "code",
   "execution_count": null,
   "metadata": {
    "scrolled": true
   },
   "outputs": [],
   "source": [
    "X = (X_rks - X_eks*10)\n",
    "Z = (Z_rks - Z_eks*10)\n",
    "plt.figure(figsize=(10, 10))\n",
    "plt.plot(X_rks[0], Z_rks[0], alpha = 1)\n",
    "for i in range(1000):\n",
    "    plt.plot(X[i], Z[i], alpha = 0.3)\n",
    "plt.show"
   ]
  },
  {
   "cell_type": "code",
   "execution_count": null,
   "metadata": {},
   "outputs": [],
   "source": [
    "\n",
    "real_Y_test = np.genfromtxt('./MATLAB/data/Generate/0404.csv', delimiter=',')[:,20:35]\n",
    "real_Z_test = np.genfromtxt('./MATLAB/data/Generate/0404_error.csv', delimiter=',')[:,1]\n",
    "\n",
    "fig = plt.figure(figsize=(15, 8))\n",
    "ax1 = host_subplot(111, axes_class=AA.Axes)\n",
    "ax1.plot(Z_train, alpha = 1, label = \"Original error\")\n",
    "# ax1.plot(Z_test_D, alpha = 0.5)\n",
    "ax1.plot(Z_test, alpha = 0.5, label = \"Predict error\")\n",
    "ax1.plot(real_Z_test, alpha = 0.5, label = \"Real error\")\n",
    "ax1.set_title('max error')\n",
    "ax1.legend()"
   ]
  },
  {
   "cell_type": "code",
   "execution_count": null,
   "metadata": {},
   "outputs": [],
   "source": []
  },
  {
   "cell_type": "code",
   "execution_count": null,
   "metadata": {
    "scrolled": true
   },
   "outputs": [],
   "source": [
    "# def train(self, X_train, epochs=10000, batch = 32, save_interval = 100):\n",
    "epochs=100000\n",
    "batch = 512\n",
    "save_interval = 50\n",
    "z_mislabled = np.zeros((batch, 1))\n",
    "for cnt in range(epochs):\n",
    "    for _ in range(X_train.shape[0]//batch):\n",
    "        d_loss = 0;\n",
    "        g_loss = 0;\n",
    "        gd_loss = 0;\n",
    "        rand_idx = np.random.randint(0, int(X_in.shape[0]*0.7), batch)\n",
    "        X_in_batch = X_in[rand_idx]\n",
    "        X_out_batch = X_out[rand_idx]\n",
    "        Y_in_batch = Y_in[rand_idx]\n",
    "        Y_out_batch = Y_out[rand_idx]\n",
    "#         rand_idx = np.random.randint(0, Y_sh.shape[0], batch)\n",
    "#         y_batch_d = Y_sh[rand_idx]\n",
    "#         z_batch_d = Z_sh[rand_idx]\n",
    "#         d_loss = self_D.train_on_batch(y_batch_d, z_batch_d)\n",
    "#         g_loss = self_G.train_on_batch(x_batch, y_batch)\n",
    "#         gd_loss = self_stacked_GD.train_on_batch(x_batch, z_mislabled)\n",
    "        gd_loss = self_stacked_GD.train_on_batch(X_in_batch, Y_out_batch)\n",
    "    \n",
    "    if cnt % save_interval == 0:\n",
    "        print ('epoch: %d, [Discriminator :: d_loss: %f], [Generator :: loss: %f], [Total :: loss: %f]' % (cnt, d_loss, g_loss, gd_loss))\n",
    "        if cnt % (save_interval*10) == 0:\n",
    "            Y_test = self_G.predict(X_train)\n",
    "            Z_test = self_stacked_GD.predict(X_train)\n",
    "            Z_test_D = self_D.predict(Y_train)\n",
    "            fig = plt.figure(figsize=(15, 10))\n",
    "            ax1 = host_subplot(211, axes_class=AA.Axes)\n",
    "            for i in range(2):\n",
    "                ax1.plot(Y_train[:,i], alpha = 0.9)\n",
    "            # for i in range(15):\n",
    "                ax1.plot(Y_test[:,i], alpha = 0.5)\n",
    "            ax1 = host_subplot(212, axes_class=AA.Axes)\n",
    "#             ax1.plot(Z_train, alpha = 1)\n",
    "            ax1.plot(Z_test_D, alpha = 0.8)\n",
    "            ax1.plot(Z_test, alpha = 0.5)\n",
    "            ax1.set_ylim(0, 1)\n",
    "            plt.show()\n",
    "            self_G.save('./models/checkpoint/G_{}.h5'.format(cnt//save_interval))\n",
    "            self_D.save('./models/checkpoint/D_{}.h5'.format(cnt//save_interval))\n",
    "            self_stacked_GD.save('./models/checkpoint/StackGD_{}.h5'.format(cnt//save_interval))"
   ]
  }
 ],
 "metadata": {
  "kernelspec": {
   "display_name": "Python 3",
   "language": "python",
   "name": "python3"
  },
  "language_info": {
   "codemirror_mode": {
    "name": "ipython",
    "version": 3
   },
   "file_extension": ".py",
   "mimetype": "text/x-python",
   "name": "python",
   "nbconvert_exporter": "python",
   "pygments_lexer": "ipython3",
   "version": "3.6.9"
  }
 },
 "nbformat": 4,
 "nbformat_minor": 2
}
