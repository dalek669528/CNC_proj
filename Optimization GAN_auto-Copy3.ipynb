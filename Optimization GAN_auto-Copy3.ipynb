{
 "cells": [
  {
   "cell_type": "code",
   "execution_count": 1,
   "metadata": {},
   "outputs": [
    {
     "name": "stderr",
     "output_type": "stream",
     "text": [
      "Using TensorFlow backend.\n"
     ]
    }
   ],
   "source": [
    "from IPython.core.debugger import Tracer\n",
    "import tensorflow as tf\n",
    "import keras\n",
    "import keras.losses\n",
    "from keras.layers import Input, Dense, Reshape, Flatten, Dropout, BatchNormalization, Concatenate\n",
    "from keras.layers.advanced_activations import LeakyReLU\n",
    "from keras.models import Sequential, load_model, Model\n",
    "from keras.optimizers import Adam, Nadam\n",
    "from keras.callbacks import EarlyStopping, Callback\n",
    "import keras.backend as K\n",
    "\n",
    "from scipy import io\n",
    "import scipy as sp\n",
    "import numpy as np\n",
    "# import pandas as pd\n",
    "import matplotlib as mpl\n",
    "import matplotlib.pyplot as plt\n",
    "from mpl_toolkits.axes_grid1 import host_subplot\n",
    "import mpl_toolkits.axisartist as AA\n",
    "import random\n",
    "import csv\n",
    "import os\n",
    "import datetime\n",
    "import socket\n",
    "import socketserver\n",
    "import time\n",
    "import threading\n",
    "from IPython.display import clear_output\n",
    "\n",
    "np.set_printoptions(precision=10, suppress=True)\n",
    "def my_mape(y_true, y_pred):\n",
    "    return K.sum((K.abs(y_pred - y_true))/(K.abs(y_true)+0.001))\n",
    "keras.losses.my_mape = my_mape\n",
    "\n",
    "\n",
    "Q_max = 1\n",
    "Q_min = -1\n",
    "def Q_normalize(Q_num):\n",
    "    return (Q_num - Q_min)/(Q_max - Q_min)\n",
    "\n",
    "def Q_denormalize(X_pred_nor):\n",
    "    res = X_pred_nor.copy()\n",
    "#     Freq = res[:,2:20]\n",
    "#     res[:,2:20] = np.power(10, Freq)\n",
    "    Q_num = res[:,13:]\n",
    "    Q_num = Q_num*(Q_max - Q_min)+Q_min\n",
    "    res[:,13:] = Q_num\n",
    "    return res\n",
    "\n",
    "class EarlyStoppingByLossVal(Callback):\n",
    "    def __init__(self, monitor='val_loss', value=0.00001, verbose=0):\n",
    "        super(Callback, self).__init__()\n",
    "        self.monitor = monitor\n",
    "        self.value = value\n",
    "        self.verbose = verbose\n",
    "\n",
    "    def on_epoch_end(self, epoch, logs={}):\n",
    "        current = logs.get(self.monitor)\n",
    "        if current is None:\n",
    "            warnings.warn(\"Early stopping requires %s available!\" % self.monitor, RuntimeWarning)\n",
    "\n",
    "        if current < self.value:\n",
    "            if self.verbose > 0:\n",
    "                print(\"Epoch %05d: early stopping THR\" % epoch)\n",
    "            self.model.stop_training = True\n",
    "            \n",
    "sys_eq = np.zeros((4, 12))\n",
    "sys_eq[0] = [0,5.37160658715533e-06,1.01642079247645e-05,-3.15029114017033e-05,1.61652283511178e-05,0, \n",
    "             1,-4.08482411682325,6.61934635300307,-5.31658479192205,2.11560994953312,-0.333547393790890]\n",
    "\n",
    "sys_eq[1] = [0,3.07689297967083e-05,-5.95779947442932e-05,2.88360987927538e-05,0,0, \n",
    "             1,-3.81134086427335,5.47923789803252,-3.55757241426427,0.922956462040706,-0.0332810815356037]\n",
    "\n",
    "sys_eq[2] = [0,1.94643500831292e-05,-4.19161004462964e-05,3.02909548271302e-05,-7.40278369851218e-06,0, \n",
    "             1,-4.44700230387150,7.99839085487672,-7.28252340101705,3.36004265435182,-0.628907804339994]\n",
    "\n",
    "sys_eq[3] = [0,3.46455304844684e-05,-6.64244171183570e-05,3.18123832826486e-05,0,0, \n",
    "             1,-3.60556002424451,4.67096932344118,-2.36455301822877,0.138605402571258,0.160538316460838]\n",
    "sys_eq[:,:6] = sys_eq[:,:6]*100000"
   ]
  },
  {
   "cell_type": "code",
   "execution_count": 2,
   "metadata": {
    "scrolled": true
   },
   "outputs": [
    {
     "name": "stdout",
     "output_type": "stream",
     "text": [
      "./MATLAB/data/0611/ 4 files\n",
      "(4, 300, 1) (4, 300, 15) (4, 300, 12) (4, 300, 1) (4, 300, 1)\n"
     ]
    }
   ],
   "source": [
    "# Load datas\n",
    "poles = []\n",
    "Qnums = []\n",
    "maxErr = []\n",
    "rmsErr = []\n",
    "\n",
    "directory_name = './MATLAB/data/0611/'\n",
    "files_name = os.listdir(directory_name)\n",
    "print(directory_name, len(files_name), 'files')\n",
    "for file in files_name:\n",
    "    filein = np.genfromtxt(directory_name + file, delimiter=',')\n",
    "    poles.append(filein[:, 0:1])\n",
    "    Qnums.append(filein[:, 1:16])\n",
    "    maxErr.append(filein[:, 17:18])\n",
    "    rmsErr.append(filein[:, 18:])\n",
    "    \n",
    "poles = np.array(poles)\n",
    "Qnums = np.array(Qnums)\n",
    "maxErr = np.array(maxErr)\n",
    "rmsErr = np.array(maxErr)\n",
    "sysEQ = np.zeros((poles.shape[0], poles.shape[1], sys_eq.shape[1]))\n",
    "sysEQ[:, :, :] = sys_eq.reshape(4, -1, 12)\n",
    "Q_max = Qnums.max(axis = (0, 1))\n",
    "Q_min = Qnums.min(axis = (0, 1))\n",
    "print(poles.shape, Qnums.shape, sysEQ.shape, maxErr.shape, rmsErr.shape)"
   ]
  },
  {
   "cell_type": "code",
   "execution_count": 4,
   "metadata": {},
   "outputs": [
    {
     "data": {
      "text/plain": [
       "(100, 15)"
      ]
     },
     "execution_count": 4,
     "metadata": {},
     "output_type": "execute_result"
    }
   ],
   "source": [
    "Qnums[0,::3].shape"
   ]
  },
  {
   "cell_type": "code",
   "execution_count": 6,
   "metadata": {},
   "outputs": [],
   "source": [
    "with open('./MATLAB/data/Generate/0611_2/aa.csv', 'w', newline='') as csvfile:\n",
    "    writer = csv.writer(csvfile)\n",
    "    writer.writerows(Qnums[0,::3])\n",
    "with open('./MATLAB/data/Generate/0611_2/bb.csv', 'w', newline='') as csvfile:\n",
    "    writer = csv.writer(csvfile)\n",
    "    writer.writerows(Qnums[1,::3])    \n"
   ]
  },
  {
   "cell_type": "code",
   "execution_count": null,
   "metadata": {},
   "outputs": [],
   "source": [
    "fig = plt.figure(figsize=(15, 16))\n",
    "for i in range(4):\n",
    "    ax1 = host_subplot(42*10 + i*2+1, axes_class=AA.Axes)\n",
    "    ax1.plot(maxErr[i], alpha = 0.5)\n",
    "    ax1 = host_subplot(42*10 + i*2+2, axes_class=AA.Axes)\n",
    "    for j in range(15):\n",
    "        ax1.plot(Qnums[i, :, j], alpha = 0.5)\n",
    "plt.show()\n"
   ]
  },
  {
   "cell_type": "code",
   "execution_count": null,
   "metadata": {},
   "outputs": [],
   "source": [
    "with open('./MATLAB/data/Generate/0611_2/temp_0.csv', 'w', newline='') as csvfile:\n",
    "    writer = csv.writer(csvfile)\n",
    "    writer.writerows(np.dstack((sysEQ, poles, Qnums)).reshape(-1, 28))\n",
    "with open('./MATLAB/data/Generate/0611_2/temp_error_0.csv', 'w', newline='') as csvfile:\n",
    "    writer = csv.writer(csvfile)\n",
    "    writer.writerows(np.dstack((maxErr, rmsErr)).reshape(-1, 2))    \n"
   ]
  },
  {
   "cell_type": "code",
   "execution_count": null,
   "metadata": {},
   "outputs": [],
   "source": [
    "Y_in_ = []\n",
    "Y_out_ = []\n",
    "indices_ = []\n",
    "# data_idx = [0, 1, 2, 5, 6, 7, 8, 12, 18, 24]\n",
    "data_idx = range(1)\n",
    "total = 0\n",
    "for idx in data_idx:\n",
    "    sys = np.genfromtxt('./MATLAB/data/Generate/0611_2/temp_{}.csv'.format(idx), delimiter=',')[:,:12]\n",
    "    p = np.genfromtxt('./MATLAB/data/Generate/0611_2/temp_{}.csv'.format(idx), delimiter=',')[:,12:13]\n",
    "    q = Q_normalize(np.genfromtxt('./MATLAB/data/Generate/0611_2/temp_{}.csv'.format(idx), delimiter=',')[:,13:])\n",
    "    Y_in_.append(np.hstack((sys, p, q)))\n",
    "    Y_out_.append(np.genfromtxt('./MATLAB/data/Generate/0611_2/temp_error_{}.csv'.format(idx), delimiter=',')[:,0]*1000)\n",
    "    print(Y_in_[-1].shape, Y_out_[-1].shape)\n",
    "    indices_.append(np.arange(Y_in_[-1].shape[0]) + total)\n",
    "    total += Y_in_[-1].shape[0]\n",
    "    np.random.shuffle(indices_[-1])\n"
   ]
  },
  {
   "cell_type": "code",
   "execution_count": null,
   "metadata": {},
   "outputs": [],
   "source": [
    "q"
   ]
  },
  {
   "cell_type": "code",
   "execution_count": null,
   "metadata": {
    "scrolled": false
   },
   "outputs": [],
   "source": [
    "X_in = Y_in_[0][:,:13]\n",
    "X_out = Y_in_[0][:,13:]\n",
    "Y_in = Y_in_[0]\n",
    "Y_out = Y_out_[0]\n",
    "for i in range(1,len(Y_out_)):\n",
    "    Y_in = np.append(Y_in, Y_in_[i], axis = 0)\n",
    "    Y_out = np.append(Y_out, Y_out_[i], axis = 0)\n",
    "Y_in = np.delete(Y_in, np.where(Y_out != Y_out), axis = 0)\n",
    "Y_out = np.delete(Y_out, np.where(Y_out != Y_out), axis = 0)\n",
    "print(X_in.shape, X_out.shape, Y_in.shape, Y_out.shape)\n",
    "indices = np.arange(Y_in.shape[0])\n",
    "np.random.shuffle(indices)\n",
    "\n",
    "fig = plt.figure(figsize=(15, 16))\n",
    "ax1 = host_subplot(211, axes_class=AA.Axes)\n",
    "for i in range(15):\n",
    "    ax1.plot(Q_denormalize(Y_in_[0])[:,i+13], alpha = 0.5)\n",
    "    ax1.set_title('Original Q num')\n",
    "    \n",
    "\n",
    "ax1 = host_subplot(212, axes_class=AA.Axes)\n",
    "ax1.plot(Y_out_[0], alpha = 0.5)\n",
    "ax1.set_title('Original Err')\n",
    "# ax1.set_ylim(0,10)\n",
    "plt.show()\n",
    "\n",
    "\n",
    "# fig = plt.figure(figsize=(15, 16))\n",
    "# ax1 = host_subplot(211, axes_class=AA.Axes)\n",
    "# for i in range(15):\n",
    "#     ax1.plot(Q_denormalize(Y_in)[:,i+13], alpha = 0.5)\n",
    "#     ax1.set_title('Original Q num')\n",
    "\n",
    "# ax1 = host_subplot(212, axes_class=AA.Axes)\n",
    "# ax1.plot(Y_out, alpha = 0.5)\n",
    "# ax1.set_title('Original Err')\n",
    "# # ax1.set_ylim(0,50)\n",
    "# plt.show()\n"
   ]
  },
  {
   "cell_type": "code",
   "execution_count": null,
   "metadata": {},
   "outputs": [],
   "source": []
  },
  {
   "cell_type": "code",
   "execution_count": null,
   "metadata": {},
   "outputs": [],
   "source": [
    "keras.backend.clear_session()"
   ]
  },
  {
   "cell_type": "code",
   "execution_count": null,
   "metadata": {},
   "outputs": [],
   "source": [
    "def __discriminator():\n",
    "    \"\"\" Declare discriminator \"\"\"\n",
    "    model = Sequential()\n",
    "    model.add(Dense(units=32, input_dim=Y_in.shape[1], kernel_initializer='normal'))\n",
    "#     model.add(Dropout(0.1))\n",
    "#     model.add(BatchNormalization())\n",
    "    model.add(Dense(units=64, kernel_initializer='normal', activation='sigmoid'))\n",
    "#     model.add(BatchNormalization(momentum=0.8))\n",
    "    model.add(Dense(units=16, activation='sigmoid'))\n",
    "#     model.add(Dropout(0.1))\n",
    "    model.add(Dense(units=1))\n",
    "    model.name = \"D\"\n",
    "    return model"
   ]
  },
  {
   "cell_type": "code",
   "execution_count": null,
   "metadata": {},
   "outputs": [],
   "source": [
    "def __generator():\n",
    "    \"\"\" Declare generator \"\"\"\n",
    "    G_in = Input(shape = (X_in.shape[1],))\n",
    "    L1 = Dense(units=64, kernel_initializer='normal')(G_in)\n",
    "#     L1 = Dropout(0.1)(L1)\n",
    "    L1 = Dense(units = 128)(L1)\n",
    "#     L1 = Dropout(0.1)(L1)\n",
    "#     L1 = BatchNormalization()(L1)\n",
    "    L1 = Dense(units = 64, activation='sigmoid')(L1)\n",
    "#     L1 = Dropout(0.1)(L1)\n",
    "#     L1 = BatchNormalization()(L1)\n",
    "    L1 = Dense(units = 32, activation='sigmoid')(L1)\n",
    "    G_out = Dense(units = X_out.shape[1])(L1)\n",
    "    G_out = Concatenate(axis = -1)([G_in, G_out])\n",
    "    model = Model(inputs = G_in, outputs = G_out)\n",
    "    model.name = \"G\"\n",
    "    return model"
   ]
  },
  {
   "cell_type": "code",
   "execution_count": null,
   "metadata": {},
   "outputs": [],
   "source": [
    "def __stacked_generator_discriminator(self_G, self_D):\n",
    "    self_D.trainable = False\n",
    "    model = Sequential()\n",
    "    model.add(self_G)\n",
    "    model.add(self_D)\n",
    "    model.name = \"GD\"\n",
    "    return model"
   ]
  },
  {
   "cell_type": "code",
   "execution_count": null,
   "metadata": {},
   "outputs": [],
   "source": [
    "self_D = __discriminator()\n",
    "self_D.summary()"
   ]
  },
  {
   "cell_type": "code",
   "execution_count": null,
   "metadata": {},
   "outputs": [],
   "source": [
    "self_G = __generator()\n",
    "self_G.summary()"
   ]
  },
  {
   "cell_type": "code",
   "execution_count": null,
   "metadata": {
    "scrolled": true
   },
   "outputs": [],
   "source": [
    "self_stacked_GD = __stacked_generator_discriminator(self_G, self_D)\n",
    "self_stacked_GD.summary()"
   ]
  },
  {
   "cell_type": "code",
   "execution_count": null,
   "metadata": {},
   "outputs": [],
   "source": [
    "logdir = os.path.join(\"logs\", datetime.datetime.now().strftime(\"%Y%m%d-%H%M%S\"))\n",
    "tensorboard_callback = keras.callbacks.TensorBoard(logdir, histogram_freq=1)"
   ]
  },
  {
   "cell_type": "code",
   "execution_count": null,
   "metadata": {
    "scrolled": true
   },
   "outputs": [],
   "source": [
    "self_D.trainable = True\n",
    "self_D.compile(loss = 'mae', optimizer = Nadam(lr=0.002))\n",
    "train_history_D = self_D.fit(x=Y_in, y=Y_out, \n",
    "                             validation_split=0, epochs=100000, batch_size=64, verbose=1, \n",
    "                             callbacks = [tensorboard_callback, \n",
    "                                          EarlyStopping(monitor = 'loss', patience = 5000, verbose = 1, mode = 'auto'),\n",
    "                                          EarlyStoppingByLossVal(monitor='loss', value=0.01, verbose=1)])"
   ]
  },
  {
   "cell_type": "code",
   "execution_count": null,
   "metadata": {},
   "outputs": [],
   "source": []
  },
  {
   "cell_type": "code",
   "execution_count": null,
   "metadata": {},
   "outputs": [],
   "source": [
    "self_G.compile(loss='mae', optimizer=Nadam(lr=0.0001))\n",
    "train_history_G = self_G.fit(x=X_in, y=Y_in,\n",
    "                               validation_split=0.2, epochs=100000, batch_size=1024, verbose=1, \n",
    "                               callbacks = [tensorboard_callback, EarlyStopping(monitor = 'val_loss', patience = 5000, verbose = 1, mode = 'auto')])"
   ]
  },
  {
   "cell_type": "code",
   "execution_count": null,
   "metadata": {
    "scrolled": true
   },
   "outputs": [],
   "source": [
    "mislabled = np.zeros((Y_in_[0].shape[0], 1))\n",
    "self_D.trainable = False\n",
    "self_stacked_GD.compile(loss='mape', optimizer=Nadam(lr=0.0001))\n",
    "train_history_GD = self_stacked_GD.fit(x=X_in[indices_[0]], y=Y_out[indices_[0]], \n",
    "# train_history_GD = self_stacked_GD.fit(x=X_in, y=mislabled,\n",
    "                                       validation_split=0.1, epochs=1000000, batch_size=64, verbose=1, \n",
    "                                       callbacks = [tensorboard_callback, EarlyStopping(monitor = 'loss', patience = 1000, verbose = 1, mode = 'auto')])"
   ]
  },
  {
   "cell_type": "code",
   "execution_count": null,
   "metadata": {},
   "outputs": [],
   "source": [
    "import warnings"
   ]
  },
  {
   "cell_type": "code",
   "execution_count": null,
   "metadata": {
    "scrolled": true
   },
   "outputs": [],
   "source": [
    "self_G = load_model('./models/Simulator_DesignF2Qnum_0601_4.h5') \n",
    "self_G.name = \"G\"\n",
    "self_G.compile(loss=my_mape, optimizer=Adam(lr=0.0000001, beta_1=0.5, decay=8e-8))\n",
    "self_G.summary()\n",
    "self_D = load_model('./models/Simulator_Qnum2Errmax_0601_4.h5')\n",
    "self_D.name = \"D\"\n",
    "self_D.compile(loss='mape', optimizer=Adam(lr=0.000001, beta_1=0.5, decay=8e-8))\n",
    "self_D.summary()\n",
    "\n",
    "self_stacked_GD = __stacked_generator_discriminator(self_G, self_D)\n",
    "self_stacked_GD.compile(loss='mae', optimizer=Adam(lr=0.0002, beta_1=0.5, decay=8e-8))\n",
    "self_stacked_GD.summary()"
   ]
  },
  {
   "cell_type": "code",
   "execution_count": null,
   "metadata": {},
   "outputs": [],
   "source": [
    "self_G.save('./models/Simulator_DesignF2Qnum_0608_2.h5')\n",
    "self_D.save('./models/Simulator_Qnum2Errmax_0608_2.h5')\n",
    "self_stacked_GD.save('./models/Stacked_GAN_0608_2.h5')"
   ]
  },
  {
   "cell_type": "code",
   "execution_count": null,
   "metadata": {},
   "outputs": [],
   "source": [
    "serverSocket =socket.socket(socket.AF_INET,socket.SOCK_STREAM)\n",
    "serverSocket.bind (('127.0.0.1',50000))\n",
    "serverSocket.listen(1)"
   ]
  },
  {
   "cell_type": "code",
   "execution_count": null,
   "metadata": {},
   "outputs": [],
   "source": [
    "train_history_D = []\n",
    "train_history_GD = []\n",
    "for idx in range(20):\n",
    "\n",
    "    X_pred = self_G.predict(X_in)\n",
    "    with open('./MATLAB/data/Generate/temp.csv', 'w', newline='') as csvfile:\n",
    "        writer = csv.writer(csvfile)\n",
    "        writer.writerows(Q_denormalize(X_pred))\n",
    "    print(\"start matlab\")\n",
    "    os.system(r\"matlab -r \\\"run('C:\\Users\\dalek669528\\Desktop\\CNC_proj\\MATLAB\\Simulation_FixedQ_Ccode\\X_main_fixedQ_Ccode_func.m')\\\"\")\n",
    "    print(\"open socket\")\n",
    "    connectionSocket, addr = serverSocket.accept()\n",
    "    with open('./MATLAB/data/Generate/check_{}.csv'.format(idx), 'w', newline='') as csvfile:\n",
    "        writer = csv.writer(csvfile)\n",
    "        writer.writerows(Q_denormalize(X_pred))\n",
    "    self_G.save('./models/checkpoint/G_{}.h5'.format(idx))\n",
    "    self_D.save('./models/checkpoint/D_{}.h5'.format(idx))\n",
    "    self_stacked_GD.save('./models/checkpoint/StackGD_{}.h5'.format(idx))\n",
    "    \n",
    "    self_D.trainable = True\n",
    "    self_D.compile(loss = 'mae', optimizer = Nadam(lr=0.00001))\n",
    "    train_history_D = self_D.fit(x=Y_in, y=Y_out, \n",
    "                                 validation_split=0, epochs=100000, batch_size=64, verbose=1, \n",
    "                                 callbacks = [tensorboard_callback, \n",
    "                                              EarlyStopping(monitor = 'loss', patience = 2000+idx*1000, verbose = 1, mode = 'auto')])\n",
    "\n",
    "    mislabled = np.zeros((Y_in_[0].shape[0], 1))\n",
    "#     self_G = __generator()\n",
    "#     self_stacked_GD = __stacked_generator_discriminator(self_G, self_D)\n",
    "    self_D.trainable = False\n",
    "    self_stacked_GD.compile(loss='mae', optimizer=Nadam(lr=0.00001))\n",
    "    train_history_GD = self_stacked_GD.fit(x=X_in[indices_[0]], y=Y_out[indices_[0]], \n",
    "    # train_history_GD = self_stacked_GD.fit(x=X_in[:3750], y=mislabled,\n",
    "                                           validation_split=0.1, epochs=1000000, batch_size=64, verbose=1, \n",
    "                                           callbacks = [tensorboard_callback, EarlyStopping(monitor = 'loss', patience = 1000, verbose = 1, mode = 'auto')])\n",
    "    \n",
    "#     connectionSocket, addr = serverSocket.accept()\n",
    "    sentence = connectionSocket.recv(1024)\n",
    "    print(sentence.decode())\n",
    "    connectionSocket.close() \n",
    "    with open('./MATLAB/data/Generate/0610/temp_{}.csv'.format(len(Y_out_)), 'w', newline='') as csvfile:\n",
    "        writer = csv.writer(csvfile)\n",
    "        writer.writerows(np.genfromtxt('./MATLAB/data/Generate/temp.csv', delimiter=','))\n",
    "    with open('./MATLAB/data/Generate/0610/temp_error_{}.csv'.format(len(Y_out_)), 'w', newline='') as csvfile:\n",
    "        writer = csv.writer(csvfile)\n",
    "        writer.writerows(np.genfromtxt('./MATLAB/data/Generate/temp_error.csv', delimiter=','))    \n",
    "    p_LQ = np.genfromtxt('./MATLAB/data/Generate/temp.csv', delimiter=',')[:,:1]\n",
    "    #     Freq = np.log10(np.genfromtxt('./MATLAB/data/Generate/temp.csv', delimiter=',')[:,2:20])\n",
    "    Q = Q_normalize(np.genfromtxt('./MATLAB/data/Generate/temp.csv', delimiter=',')[:,1:])\n",
    "    Y_in_resimulate = np.hstack((p_LQ, Q))\n",
    "    Y_out_resimulate = np.genfromtxt('./MATLAB/data/Generate/temp_error.csv', delimiter=',')[:,0]*1000\n",
    "    Y_in_.append(Y_in_resimulate)\n",
    "    Y_out_.append(Y_out_resimulate)\n",
    "    Y_in = np.append(Y_in, Y_in_resimulate, axis=0)\n",
    "    Y_out = np.append(Y_out, Y_out_resimulate)\n",
    "    Y_in = np.delete(Y_in, np.where(Y_out != Y_out), axis = 0)\n",
    "    Y_out = np.delete(Y_out, np.where(Y_out != Y_out), axis = 0)\n",
    "    print(Y_in_[-1].shape, Y_out_[-1].shape, len(Y_in))\n",
    "    indices = np.arange(Y_in.shape[0])\n",
    "    np.random.shuffle(indices)"
   ]
  },
  {
   "cell_type": "code",
   "execution_count": null,
   "metadata": {},
   "outputs": [],
   "source": [
    "with open('./MATLAB/data/Generate/0601/temp_0601_{}.csv'.format(len(Y_out_)), 'w', newline='') as csvfile:\n",
    "    writer = csv.writer(csvfile)\n",
    "    writer.writerows(np.genfromtxt('./MATLAB/data/Generate/temp.csv', delimiter=','))\n",
    "with open('./MATLAB/data/Generate/0601/temp_error_0601_{}.csv'.format(len(Y_out_)), 'w', newline='') as csvfile:\n",
    "    writer = csv.writer(csvfile)\n",
    "    writer.writerows(np.genfromtxt('./MATLAB/data/Generate/temp_error.csv', delimiter=','))    \n",
    "p_LQ = np.genfromtxt('./MATLAB/data/Generate/temp.csv', delimiter=',')[:,:1]\n",
    "#     Freq = np.log10(np.genfromtxt('./MATLAB/data/Generate/temp.csv', delimiter=',')[:,2:20])\n",
    "Q = Q_normalize(np.genfromtxt('./MATLAB/data/Generate/temp.csv', delimiter=',')[:,1:])\n",
    "Y_in_resimulate = np.hstack((p_LQ, Q))\n",
    "Y_out_resimulate = np.genfromtxt('./MATLAB/data/Generate/temp_error.csv', delimiter=',')[:,0]*1000\n",
    "Y_in_.append(Y_in_resimulate)\n",
    "Y_out_.append(Y_out_resimulate)\n",
    "Y_in = np.append(Y_in, Y_in_resimulate, axis=0)\n",
    "Y_out = np.append(Y_out, Y_out_resimulate)\n",
    "Y_in = np.delete(Y_in, np.where(Y_out != Y_out), axis = 0)\n",
    "Y_out = np.delete(Y_out, np.where(Y_out != Y_out), axis = 0)\n",
    "print(Y_in_[-1].shape, Y_out_[-1].shape, len(Y_in))\n",
    "indices = np.arange(Y_in.shape[0])\n",
    "np.random.shuffle(indices)"
   ]
  },
  {
   "cell_type": "code",
   "execution_count": null,
   "metadata": {},
   "outputs": [],
   "source": [
    "Y_in_.append(Y_in_resimulate)\n",
    "Y_out_.append(Y_out_resimulate)\n",
    "Y_in = np.append(Y_in, Y_in_resimulate, axis=0)\n",
    "Y_out = np.append(Y_out, Y_out_resimulate)\n",
    "print(Y_in_[-1].shape, Y_out_[-1].shape, len(Y_in))"
   ]
  },
  {
   "cell_type": "code",
   "execution_count": null,
   "metadata": {},
   "outputs": [],
   "source": [
    "p_LQ = np.genfromtxt('./MATLAB/data/Generate/temp.csv', delimiter=',')[:,:1]\n",
    "#     Freq = np.log10(np.genfromtxt('./MATLAB/data/Generate/temp.csv', delimiter=',')[:,2:20])\n",
    "Q = Q_normalize(np.genfromtxt('./MATLAB/data/Generate/temp.csv', delimiter=',')[:,1:])\n",
    "Y_in_resimulate = np.hstack((p_LQ, Q))\n",
    "Y_out_resimulate = np.genfromtxt('./MATLAB/data/Generate/temp_error.csv', delimiter=',')[:,0]*1000\n",
    "Y_in_.append(Y_in_resimulate)\n",
    "Y_out_.append(Y_out_resimulate)\n",
    "Y_in = np.append(Y_in, Y_in_resimulate, axis=0)\n",
    "Y_out = np.append(Y_out, Y_out_resimulate)\n",
    "Y_in = np.delete(Y_in, np.where(Y_out != Y_out), axis = 0)\n",
    "Y_out = np.delete(Y_out, np.where(Y_out != Y_out), axis = 0)\n",
    "print(Y_in_[-1].shape, Y_out_[-1].shape, len(Y_in))\n",
    "indices = np.arange(Y_in.shape[0])\n",
    "np.random.shuffle(indices)"
   ]
  },
  {
   "cell_type": "code",
   "execution_count": null,
   "metadata": {},
   "outputs": [],
   "source": [
    "np.genfromtxt('./MATLAB/data/Generate/temp.csv', delimiter=',').shape"
   ]
  },
  {
   "cell_type": "code",
   "execution_count": null,
   "metadata": {},
   "outputs": [],
   "source": [
    "# with open('./MATLAB/data/Generate/temp_0430_{}.csv'.format(len(Y_out_)), 'w', newline='') as csvfile:\n",
    "#     writer = csv.writer(csvfile)\n",
    "#     writer.writerows(np.genfromtxt('./MATLAB/data/Generate/temp.csv', delimiter=','))\n",
    "# with open('./MATLAB/data/Generate/temp_error_0430_{}.csv'.format(len(Y_out_)), 'w', newline='') as csvfile:\n",
    "#     writer = csv.writer(csvfile)\n",
    "#     writer.writerows(np.genfromtxt('./MATLAB/data/Generate/temp_error.csv', delimiter=','))"
   ]
  },
  {
   "cell_type": "code",
   "execution_count": null,
   "metadata": {
    "scrolled": false
   },
   "outputs": [],
   "source": [
    "X_pred = self_G.predict(X_in)\n",
    "Y_pred = self_stacked_GD.predict(X_in)\n",
    "Y_pred_D = self_D.predict(Y_in_[-2])\n",
    "fig = plt.figure(figsize=(15, 16))\n",
    "ax1 = host_subplot(211, axes_class=AA.Axes)\n",
    "for i in range(15):\n",
    "    ax1.plot(Q_denormalize(Y_in_[-2])[:,i+20], alpha = 0.5)\n",
    "    ax1.set_title('Original Q num')\n",
    "ax1 = host_subplot(212, axes_class=AA.Axes)\n",
    "for i in range(15):\n",
    "    ax1.plot(Q_denormalize(X_pred)[:,i+20], alpha = 0.5)\n",
    "    ax1.set_title('Original Q num')\n",
    "plt.show()\n",
    "\n",
    "fig = plt.figure(figsize=(15, 20))\n",
    "ax1 = host_subplot(311, axes_class=AA.Axes)\n",
    "ax1.plot(Y_out_[-2], alpha = 0.5)\n",
    "ax1.set_title('Original Err')\n",
    "ax1 = host_subplot(312, axes_class=AA.Axes)\n",
    "ax1.plot(Y_pred, alpha = 0.5)\n",
    "ax1.set_title('Original Err')\n",
    "ax1 = host_subplot(313, axes_class=AA.Axes)\n",
    "ax1.plot(Y_pred_D, alpha = 0.5)\n",
    "ax1.set_title('Original Err')\n",
    "plt.show()"
   ]
  },
  {
   "cell_type": "code",
   "execution_count": null,
   "metadata": {
    "scrolled": false
   },
   "outputs": [],
   "source": [
    "fig = plt.figure(figsize=(15, 16))\n",
    "ax1 = host_subplot(211, axes_class=AA.Axes)\n",
    "for i in range(15):\n",
    "    ax1.plot(Q_denormalize(Y_in_[-1])[:,i+20], alpha = 0.5)\n",
    "    ax1.set_title('Original Q num')\n",
    "\n",
    "ax1 = host_subplot(212, axes_class=AA.Axes)\n",
    "ax1.plot(Y_out_[-1], alpha = 0.5)\n",
    "ax1.set_title('Original Err')\n",
    "plt.show()\n"
   ]
  },
  {
   "cell_type": "code",
   "execution_count": null,
   "metadata": {},
   "outputs": [],
   "source": [
    "Q_denormalize(X_pred)[1300]"
   ]
  },
  {
   "cell_type": "code",
   "execution_count": null,
   "metadata": {
    "scrolled": false
   },
   "outputs": [],
   "source": [
    "X_pred = self_G.predict(X_in)\n",
    "Y_pred = self_stacked_GD.predict(X_in)\n",
    "Y_pred_D = self_D.predict(Y_in)\n",
    "fig = plt.figure(figsize=(15, 16))\n",
    "ax1 = host_subplot(211, axes_class=AA.Axes)\n",
    "for i in range(15):\n",
    "    ax1.plot(Q_denormalize(Y_in_[0])[:,i+13], alpha = 0.5)\n",
    "    ax1.set_title('Original Q num')\n",
    "# plt.show()\n",
    "# fig = plt.figure(figsize=(15, 8))\n",
    "ax1 = host_subplot(212, axes_class=AA.Axes)\n",
    "for i in range(15):\n",
    "    ax1.plot(Q_denormalize(X_pred)[:,i+13], alpha = 0.8)\n",
    "    ax1.set_title('Predict Q num')\n",
    "plt.show()\n",
    "\n",
    "\n",
    "fig = plt.figure(figsize=(15, 8))\n",
    "ax1 = host_subplot(111, axes_class=AA.Axes)\n",
    "ax1.plot(Y_out_[0], alpha = 1, label = \"Original error\")\n",
    "ax1.plot(Y_pred, alpha = 0.5, label = \"Predict error\")\n",
    "ax1.set_title('max error')\n",
    "ax1.legend()\n",
    "# ax1.set_ylim(0, 1)\n",
    "plt.show()\n",
    "\n",
    "fig = plt.figure(figsize=(15, 8))\n",
    "ax1 = host_subplot(111, axes_class=AA.Axes)\n",
    "ax1.plot(Y_out, alpha = 0.3, label = \"Original error\")\n",
    "ax1.plot(Y_pred_D, alpha = 0.5, label = \"Predict error\")\n",
    "ax1.set_title('max error')\n",
    "ax1.legend()\n",
    "# ax1.set_ylim(0, 1)\n",
    "plt.show()\n",
    "\n",
    "# fig = plt.figure(figsize=(15, 8))\n",
    "# ax1 = host_subplot(111, axes_class=AA.Axes)\n",
    "# ax1.plot(Y_out, alpha = 0.5, label = \"Original error\")\n",
    "# ax1.plot(Y_pred_D, alpha = 0.5, label = \"Predict error\")\n",
    "# ax1.set_title('max error')\n",
    "# ax1.legend()\n",
    "# ax1.set_ylim(0, 50)\n",
    "# plt.show()"
   ]
  },
  {
   "cell_type": "code",
   "execution_count": null,
   "metadata": {},
   "outputs": [],
   "source": []
  },
  {
   "cell_type": "code",
   "execution_count": null,
   "metadata": {},
   "outputs": [],
   "source": [
    "print(tf.__version__)"
   ]
  },
  {
   "cell_type": "code",
   "execution_count": null,
   "metadata": {},
   "outputs": [],
   "source": []
  },
  {
   "cell_type": "code",
   "execution_count": null,
   "metadata": {},
   "outputs": [],
   "source": [
    "Y_pred_D = self_D.predict(Y_in)\n",
    "fig = plt.figure(figsize=(15, 8))\n",
    "ax1 = host_subplot(111, axes_class=AA.Axes)\n",
    "ax1.plot(Y_out[:], alpha = 1, label = \"Original error\")\n",
    "ax1.plot(Y_pred_D[:], alpha = 0.3, label = \"Predict error\")\n",
    "ax1.set_title('max error')\n",
    "ax1.legend()"
   ]
  },
  {
   "cell_type": "code",
   "execution_count": null,
   "metadata": {},
   "outputs": [],
   "source": [
    "# Y_test = self_D.predict(Y_in)\n",
    "fig = plt.figure(figsize=(15, 16))\n",
    "ax1 = host_subplot(211, axes_class=AA.Axes)\n",
    "ax1.plot(Y_out_, alpha = 0.9)\n",
    "# ax1.plot(Y_test, alpha = 0.5)\n",
    "# ax1 = host_subplot(212, axes_class=AA.Axes)\n",
    "# ax1.plot(Y_out_3[:200], alpha = 0.9)\n",
    "# ax1.plot(Y_test[:200], alpha = 0.5)\n",
    "plt.show()"
   ]
  },
  {
   "cell_type": "code",
   "execution_count": null,
   "metadata": {},
   "outputs": [],
   "source": [
    "for idx in range(len(Y_out_)):\n",
    "    fig = plt.figure(figsize=(10, 8))\n",
    "    ax1 = host_subplot(211, axes_class=AA.Axes)\n",
    "    for i in range(15):\n",
    "        ax1.plot(Q_denormalize(Y_in_[idx])[:,i+20], alpha = 0.5)\n",
    "    ax1.set_title(idx)\n",
    "#     ax1.set_xticklabels(['','3', '3.5', '4', '4.5', '5', '5.5', '6', '6.5'], fontsize = 30)\n",
    "#     plt.show()\n",
    "\n",
    "#     fig = plt.figure(figsize=(7, 5))\n",
    "    ax1 = host_subplot(212, axes_class=AA.Axes)\n",
    "    ax1.plot(Y_out_[idx], alpha = 0.5)\n",
    "    # ax1.set_title('Original Err')\n",
    "#     ax1.set_xticklabels(['','3', '3.5', '4', '4.5', '5', '5.5', '6', '6.5'], fontsize = 30)\n",
    "    ax1.set_ylim(0,25)\n",
    "    plt.show()"
   ]
  },
  {
   "cell_type": "code",
   "execution_count": null,
   "metadata": {},
   "outputs": [],
   "source": []
  },
  {
   "cell_type": "code",
   "execution_count": null,
   "metadata": {},
   "outputs": [],
   "source": [
    "in_ = np.genfromtxt('./MATLAB/data/Generate/0601/temp_0601_2.csv', delimiter=',')\n",
    "out_ = np.genfromtxt('./MATLAB/data/Generate/0601/temp_error_0601_2.csv', delimiter=',')\n",
    "print(in_.shape, out_.shape)"
   ]
  },
  {
   "cell_type": "code",
   "execution_count": null,
   "metadata": {},
   "outputs": [],
   "source": [
    "with open('./MATLAB/data/Generate//0601/temp_0601_2.csv', 'w', newline='') as csvfile:\n",
    "    writer = csv.writer(csvfile)\n",
    "    writer.writerows(in_)\n",
    "with open('./MATLAB/data/Generate/0601/temp_error_0601_2.csv', 'w', newline='') as csvfile:\n",
    "    writer = csv.writer(csvfile)\n",
    "    writer.writerows(out_)"
   ]
  },
  {
   "cell_type": "code",
   "execution_count": null,
   "metadata": {},
   "outputs": [],
   "source": []
  }
 ],
 "metadata": {
  "kernelspec": {
   "display_name": "Python 3",
   "language": "python",
   "name": "python3"
  },
  "language_info": {
   "codemirror_mode": {
    "name": "ipython",
    "version": 3
   },
   "file_extension": ".py",
   "mimetype": "text/x-python",
   "name": "python",
   "nbconvert_exporter": "python",
   "pygments_lexer": "ipython3",
   "version": "3.6.10"
  }
 },
 "nbformat": 4,
 "nbformat_minor": 2
}
